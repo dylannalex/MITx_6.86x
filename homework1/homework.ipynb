{
 "cells": [
  {
   "cell_type": "markdown",
   "metadata": {},
   "source": [
    "# Homework 1 - Linear Classifiers and Generalizations"
   ]
  },
  {
   "cell_type": "code",
   "execution_count": 8,
   "metadata": {},
   "outputs": [],
   "source": [
    "import numpy as np\n",
    "from src import preceptor"
   ]
  },
  {
   "cell_type": "markdown",
   "metadata": {},
   "source": [
    "## 1. Preceptor Mistakes"
   ]
  },
  {
   "cell_type": "markdown",
   "metadata": {},
   "source": [
    "In this problem, we will investigate the perceptron algorithm with different iteration ordering.\n",
    "\n",
    "Consider applying the perceptron algorithm through the origin based on a small training set containing three points:\n",
    "\n",
    "$x^{(1)}=[-1,-1]$ and $y^{(1)}=1$\n",
    "\n",
    "$x^{(2)}=[1,0]$\tand $y^{(2)}=-1$\n",
    "\n",
    "$x^{(3)}=[-1, 1.5]$ and $y^{(3)}=1$\n",
    "\n",
    "Given that the algorithm starts with\n",
    ", the first point that the algorithm sees is always considered a mistake. The algorithm starts with some data point and then cycles through the data (in order) until it makes no further mistakes. "
   ]
  },
  {
   "cell_type": "code",
   "execution_count": 9,
   "metadata": {},
   "outputs": [],
   "source": [
    "def exercise_1_preceptor(\n",
    "    x: np.ndarray, y: np.ndarray, cycles: int, initial_x_index: int = 0\n",
    "):\n",
    "    theta = np.zeros(x.shape[1])\n",
    "    total_mistakes = 0\n",
    "    for cycle in range(cycles):\n",
    "        cycle_mistakes = 0\n",
    "        for i in range(len(x)):\n",
    "            if cycle == 0 and i < initial_x_index:\n",
    "                continue\n",
    "            if y[i] * np.dot(theta, x[i]) <= 0:\n",
    "                cycle_mistakes += 1\n",
    "                total_mistakes += 1\n",
    "                theta += y[i] * x[i]\n",
    "            print(f\"i: {i}\\ttheta: {theta}\\ttotal mistakes: {total_mistakes}\")\n",
    "        if not cycle_mistakes:\n",
    "            return theta\n",
    "        print(\"\\n\")\n",
    "    return theta"
   ]
  },
  {
   "cell_type": "markdown",
   "metadata": {},
   "source": [
    "### 1. (a)\n",
    "\n",
    "#### Question\n",
    "\n",
    "How many mistakes does the algorithm make until convergence if the algorithm starts with data point $x^{(1)}$? How many mistakes does the algorithm make if it starts with data point $x^{(2)}$? "
   ]
  },
  {
   "cell_type": "markdown",
   "metadata": {},
   "source": [
    "Starting with $x^{(1)}$:"
   ]
  },
  {
   "cell_type": "code",
   "execution_count": 10,
   "metadata": {},
   "outputs": [
    {
     "name": "stdout",
     "output_type": "stream",
     "text": [
      "i: 0\ttheta: [-1. -1.]\ttotal mistakes: 1\n",
      "i: 1\ttheta: [-1. -1.]\ttotal mistakes: 1\n",
      "i: 2\ttheta: [-2.   0.5]\ttotal mistakes: 2\n",
      "\n",
      "\n",
      "i: 0\ttheta: [-2.   0.5]\ttotal mistakes: 2\n",
      "i: 1\ttheta: [-2.   0.5]\ttotal mistakes: 2\n",
      "i: 2\ttheta: [-2.   0.5]\ttotal mistakes: 2\n"
     ]
    },
    {
     "data": {
      "text/plain": [
       "array([-2. ,  0.5])"
      ]
     },
     "execution_count": 10,
     "metadata": {},
     "output_type": "execute_result"
    }
   ],
   "source": [
    "x = np.array([[-1, -1], [1, 0], [-1, 1.5]])\n",
    "y = np.array([1, -1, 1])\n",
    "exercise_1_preceptor(x, y, cycles=100, initial_x_index=0)"
   ]
  },
  {
   "cell_type": "markdown",
   "metadata": {},
   "source": [
    "Starting with $x^{(2)}$:"
   ]
  },
  {
   "cell_type": "code",
   "execution_count": 11,
   "metadata": {},
   "outputs": [
    {
     "name": "stdout",
     "output_type": "stream",
     "text": [
      "i: 1\ttheta: [-1.  0.]\ttotal mistakes: 1\n",
      "i: 2\ttheta: [-1.  0.]\ttotal mistakes: 1\n",
      "\n",
      "\n",
      "i: 0\ttheta: [-1.  0.]\ttotal mistakes: 1\n",
      "i: 1\ttheta: [-1.  0.]\ttotal mistakes: 1\n",
      "i: 2\ttheta: [-1.  0.]\ttotal mistakes: 1\n"
     ]
    },
    {
     "data": {
      "text/plain": [
       "array([-1.,  0.])"
      ]
     },
     "execution_count": 11,
     "metadata": {},
     "output_type": "execute_result"
    }
   ],
   "source": [
    "x = np.array([[-1, -1], [1, 0], [-1, 1.5]])\n",
    "y = np.array([1, -1, 1])\n",
    "exercise_1_preceptor(x, y, cycles=100, initial_x_index=1)"
   ]
  },
  {
   "cell_type": "markdown",
   "metadata": {},
   "source": [
    "## 2. Preceptor Performance"
   ]
  },
  {
   "cell_type": "markdown",
   "metadata": {},
   "source": [
    "The following table shows a data set and the number of times each point is misclassified during a run of the perceptron algorithm (with offset ). and are initialized to zero.\n",
    "\t\n",
    "| i   | x           | y     | times misclassified |\n",
    "|-----|-------------|-------|---------------------|\n",
    "| 1   |   [-4, 2]   |   +1  |           1         |\n",
    "|  2  |   [-2, 1]   |   +1  |           0         |\n",
    "|  3  |   [-1, -1]  |   -1  |           2         |\n",
    "|  4  |   [2, 2]    |   -1  |           1         |\n",
    "|  5  |   [1, -2]   |   -1  |           0         |"
   ]
  },
  {
   "cell_type": "code",
   "execution_count": 18,
   "metadata": {},
   "outputs": [],
   "source": [
    "def exercise_2_preceptor(\n",
    "    x: np.ndarray, y: np.ndarray, cycles: int, theta: np.ndarray = None, theta0: float = None\n",
    "):\n",
    "    if theta is None:\n",
    "        theta = np.zeros(x.shape[1])\n",
    "    if theta0 is None:\n",
    "        theta0 = 0\n",
    "    \n",
    "    misclassified = [0 for _ in range(len(x))]\n",
    "    for cycle in range(cycles):\n",
    "        mistakes = 0\n",
    "        for i in range(len(x)):\n",
    "            if y[i] * (np.dot(theta, x[i]) + theta0) <= 0:\n",
    "                mistakes += 1\n",
    "                theta += y[i] * x[i]\n",
    "                theta0 += y[i]\n",
    "                misclassified[i] += 1\n",
    "            print(f\"i: {i+1}\\tmisclassified: {misclassified[i]}\\ttheta: {theta}\\ttheta0: {theta0}\")\n",
    "        print(\"\\n\")\n",
    "    return theta, theta0"
   ]
  },
  {
   "cell_type": "markdown",
   "metadata": {},
   "source": [
    "### 2. (a)\n",
    "\n",
    "#### Question\n",
    "\n",
    "Write down the state of $\\theta$ and $\\theta_0$ after this run has completed (note, the algorithm may not yet have converged).\n",
    "\n",
    "#### Answer"
   ]
  },
  {
   "cell_type": "code",
   "execution_count": 19,
   "metadata": {},
   "outputs": [
    {
     "name": "stdout",
     "output_type": "stream",
     "text": [
      "i: 1\tmisclassified: 1\ttheta: [-4.  2.]\ttheta0: 1\n",
      "i: 2\tmisclassified: 0\ttheta: [-4.  2.]\ttheta0: 1\n",
      "i: 3\tmisclassified: 1\ttheta: [-3.  3.]\ttheta0: 0\n",
      "i: 4\tmisclassified: 1\ttheta: [-5.  1.]\ttheta0: -1\n",
      "i: 5\tmisclassified: 0\ttheta: [-5.  1.]\ttheta0: -1\n",
      "\n",
      "\n",
      "i: 1\tmisclassified: 1\ttheta: [-5.  1.]\ttheta0: -1\n",
      "i: 2\tmisclassified: 0\ttheta: [-5.  1.]\ttheta0: -1\n",
      "i: 3\tmisclassified: 2\ttheta: [-4.  2.]\ttheta0: -2\n",
      "i: 4\tmisclassified: 1\ttheta: [-4.  2.]\ttheta0: -2\n",
      "i: 5\tmisclassified: 0\ttheta: [-4.  2.]\ttheta0: -2\n",
      "\n",
      "\n",
      "i: 1\tmisclassified: 1\ttheta: [-4.  2.]\ttheta0: -2\n",
      "i: 2\tmisclassified: 0\ttheta: [-4.  2.]\ttheta0: -2\n",
      "i: 3\tmisclassified: 3\ttheta: [-3.  3.]\ttheta0: -3\n",
      "i: 4\tmisclassified: 1\ttheta: [-3.  3.]\ttheta0: -3\n",
      "i: 5\tmisclassified: 0\ttheta: [-3.  3.]\ttheta0: -3\n",
      "\n",
      "\n"
     ]
    },
    {
     "data": {
      "text/plain": [
       "(array([-3.,  3.]), -3)"
      ]
     },
     "execution_count": 19,
     "metadata": {},
     "output_type": "execute_result"
    }
   ],
   "source": [
    "x = np.array([[-4, 2], [-2, 1], [-1, -1], [2, 2], [1, -2]])\n",
    "y = np.array([1, 1, -1, -1, -1])\n",
    "exercise_2_preceptor(x, y, cycles=3)"
   ]
  },
  {
   "cell_type": "markdown",
   "metadata": {},
   "source": [
    "The answer is $\\theta = [-4, 2]$ and $\\theta_0 = -2$."
   ]
  },
  {
   "cell_type": "markdown",
   "metadata": {},
   "source": [
    "### 2. (b)\n",
    "\n",
    "#### Question\n",
    "\n",
    "Provide one example of a different initialization of $\\theta$ and $\\theta_0$ such that the perceptron algorithm with this initialization would not produce any mistakes during a run through the data. \n",
    "\n",
    "#### Answer"
   ]
  },
  {
   "cell_type": "code",
   "execution_count": 21,
   "metadata": {},
   "outputs": [
    {
     "name": "stdout",
     "output_type": "stream",
     "text": [
      "Optimal theta and theta0 found:  [-3.  3.] -3\n",
      "i: 1\tmisclassified: 0\ttheta: [-3.  3.]\ttheta0: -3\n",
      "i: 2\tmisclassified: 0\ttheta: [-3.  3.]\ttheta0: -3\n",
      "i: 3\tmisclassified: 0\ttheta: [-3.  3.]\ttheta0: -3\n",
      "i: 4\tmisclassified: 0\ttheta: [-3.  3.]\ttheta0: -3\n",
      "i: 5\tmisclassified: 0\ttheta: [-3.  3.]\ttheta0: -3\n",
      "\n",
      "\n"
     ]
    },
    {
     "data": {
      "text/plain": [
       "(array([-3.,  3.]), -3)"
      ]
     },
     "execution_count": 21,
     "metadata": {},
     "output_type": "execute_result"
    }
   ],
   "source": [
    "x = np.array([[-4, 2], [-2, 1], [-1, -1], [2, 2], [1, -2]])\n",
    "y = np.array([1, 1, -1, -1, -1])\n",
    "optimal_theta, optimal_theta0 = preceptor.preceptor(x, y, cycles=1000)\n",
    "exercise_2_preceptor(x, y, cycles=1, theta=optimal_theta, theta0=optimal_theta0)"
   ]
  }
 ],
 "metadata": {
  "kernelspec": {
   "display_name": "6.86x",
   "language": "python",
   "name": "python3"
  },
  "language_info": {
   "codemirror_mode": {
    "name": "ipython",
    "version": 3
   },
   "file_extension": ".py",
   "mimetype": "text/x-python",
   "name": "python",
   "nbconvert_exporter": "python",
   "pygments_lexer": "ipython3",
   "version": "3.11.5"
  },
  "orig_nbformat": 4
 },
 "nbformat": 4,
 "nbformat_minor": 2
}
